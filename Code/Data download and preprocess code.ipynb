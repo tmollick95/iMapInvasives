{
  "cells": [
    {
      "cell_type": "markdown",
      "id": "6848bbc6",
      "metadata": {
        "id": "6848bbc6"
      },
      "source": [
        "[![Open In Colab](https://colab.research.google.com/assets/colab-badge.svg)](https://colab.research.google.com/github/tmollick95/iMapInvasives/blob/master/Code/Data%20download%20and%20preprocess%20code.ipynb)"
      ]
    },
    {
      "cell_type": "markdown",
      "source": [
        "## Leveraging machine learning to confirm invasive species reports"
      ],
      "metadata": {
        "id": "oxSI5CCDZkfb"
      },
      "id": "oxSI5CCDZkfb"
    },
    {
      "cell_type": "code",
      "source": [
        "#attach to Google Drive\n",
        "from google.colab import drive\n",
        "drive.mount('/content/drive')"
      ],
      "metadata": {
        "id": "S3WI9lM_Zu_U",
        "outputId": "83492931-b550-4925-f0d1-a1037947ade9",
        "colab": {
          "base_uri": "https://localhost:8080/"
        }
      },
      "id": "S3WI9lM_Zu_U",
      "execution_count": 1,
      "outputs": [
        {
          "output_type": "stream",
          "name": "stdout",
          "text": [
            "Mounted at /content/drive\n"
          ]
        }
      ]
    },
    {
      "cell_type": "markdown",
      "source": [
        "### Install required Python libraries\n"
      ],
      "metadata": {
        "id": "B1pAS4Ckac6f"
      },
      "id": "B1pAS4Ckac6f"
    },
    {
      "cell_type": "code",
      "source": [
        "!pip install geopandas\n",
        "!pip install seaborn\n",
        "!pip install earthpy"
      ],
      "metadata": {
        "id": "6tp5rWk3acdZ",
        "outputId": "45e72856-86d1-4ecb-801c-da8fca1121b9",
        "colab": {
          "base_uri": "https://localhost:8080/"
        }
      },
      "id": "6tp5rWk3acdZ",
      "execution_count": 2,
      "outputs": [
        {
          "output_type": "stream",
          "name": "stdout",
          "text": [
            "Requirement already satisfied: geopandas in /usr/local/lib/python3.10/dist-packages (1.0.1)\n",
            "Requirement already satisfied: numpy>=1.22 in /usr/local/lib/python3.10/dist-packages (from geopandas) (1.26.4)\n",
            "Requirement already satisfied: pyogrio>=0.7.2 in /usr/local/lib/python3.10/dist-packages (from geopandas) (0.10.0)\n",
            "Requirement already satisfied: packaging in /usr/local/lib/python3.10/dist-packages (from geopandas) (24.1)\n",
            "Requirement already satisfied: pandas>=1.4.0 in /usr/local/lib/python3.10/dist-packages (from geopandas) (2.2.2)\n",
            "Requirement already satisfied: pyproj>=3.3.0 in /usr/local/lib/python3.10/dist-packages (from geopandas) (3.7.0)\n",
            "Requirement already satisfied: shapely>=2.0.0 in /usr/local/lib/python3.10/dist-packages (from geopandas) (2.0.6)\n",
            "Requirement already satisfied: python-dateutil>=2.8.2 in /usr/local/lib/python3.10/dist-packages (from pandas>=1.4.0->geopandas) (2.8.2)\n",
            "Requirement already satisfied: pytz>=2020.1 in /usr/local/lib/python3.10/dist-packages (from pandas>=1.4.0->geopandas) (2024.2)\n",
            "Requirement already satisfied: tzdata>=2022.7 in /usr/local/lib/python3.10/dist-packages (from pandas>=1.4.0->geopandas) (2024.2)\n",
            "Requirement already satisfied: certifi in /usr/local/lib/python3.10/dist-packages (from pyogrio>=0.7.2->geopandas) (2024.8.30)\n",
            "Requirement already satisfied: six>=1.5 in /usr/local/lib/python3.10/dist-packages (from python-dateutil>=2.8.2->pandas>=1.4.0->geopandas) (1.16.0)\n",
            "Requirement already satisfied: seaborn in /usr/local/lib/python3.10/dist-packages (0.13.2)\n",
            "Requirement already satisfied: numpy!=1.24.0,>=1.20 in /usr/local/lib/python3.10/dist-packages (from seaborn) (1.26.4)\n",
            "Requirement already satisfied: pandas>=1.2 in /usr/local/lib/python3.10/dist-packages (from seaborn) (2.2.2)\n",
            "Requirement already satisfied: matplotlib!=3.6.1,>=3.4 in /usr/local/lib/python3.10/dist-packages (from seaborn) (3.8.0)\n",
            "Requirement already satisfied: contourpy>=1.0.1 in /usr/local/lib/python3.10/dist-packages (from matplotlib!=3.6.1,>=3.4->seaborn) (1.3.0)\n",
            "Requirement already satisfied: cycler>=0.10 in /usr/local/lib/python3.10/dist-packages (from matplotlib!=3.6.1,>=3.4->seaborn) (0.12.1)\n",
            "Requirement already satisfied: fonttools>=4.22.0 in /usr/local/lib/python3.10/dist-packages (from matplotlib!=3.6.1,>=3.4->seaborn) (4.54.1)\n",
            "Requirement already satisfied: kiwisolver>=1.0.1 in /usr/local/lib/python3.10/dist-packages (from matplotlib!=3.6.1,>=3.4->seaborn) (1.4.7)\n",
            "Requirement already satisfied: packaging>=20.0 in /usr/local/lib/python3.10/dist-packages (from matplotlib!=3.6.1,>=3.4->seaborn) (24.1)\n",
            "Requirement already satisfied: pillow>=6.2.0 in /usr/local/lib/python3.10/dist-packages (from matplotlib!=3.6.1,>=3.4->seaborn) (10.4.0)\n",
            "Requirement already satisfied: pyparsing>=2.3.1 in /usr/local/lib/python3.10/dist-packages (from matplotlib!=3.6.1,>=3.4->seaborn) (3.2.0)\n",
            "Requirement already satisfied: python-dateutil>=2.7 in /usr/local/lib/python3.10/dist-packages (from matplotlib!=3.6.1,>=3.4->seaborn) (2.8.2)\n",
            "Requirement already satisfied: pytz>=2020.1 in /usr/local/lib/python3.10/dist-packages (from pandas>=1.2->seaborn) (2024.2)\n",
            "Requirement already satisfied: tzdata>=2022.7 in /usr/local/lib/python3.10/dist-packages (from pandas>=1.2->seaborn) (2024.2)\n",
            "Requirement already satisfied: six>=1.5 in /usr/local/lib/python3.10/dist-packages (from python-dateutil>=2.7->matplotlib!=3.6.1,>=3.4->seaborn) (1.16.0)\n",
            "Collecting earthpy\n",
            "  Downloading earthpy-0.9.4-py3-none-any.whl.metadata (9.2 kB)\n",
            "Requirement already satisfied: geopandas in /usr/local/lib/python3.10/dist-packages (from earthpy) (1.0.1)\n",
            "Requirement already satisfied: matplotlib>=2.0.0 in /usr/local/lib/python3.10/dist-packages (from earthpy) (3.8.0)\n",
            "Requirement already satisfied: numpy>=1.14.0 in /usr/local/lib/python3.10/dist-packages (from earthpy) (1.26.4)\n",
            "Collecting rasterio (from earthpy)\n",
            "  Downloading rasterio-1.4.2-cp310-cp310-manylinux_2_17_x86_64.manylinux2014_x86_64.whl.metadata (9.1 kB)\n",
            "Requirement already satisfied: scikit-image in /usr/local/lib/python3.10/dist-packages (from earthpy) (0.24.0)\n",
            "Requirement already satisfied: requests in /usr/local/lib/python3.10/dist-packages (from earthpy) (2.32.3)\n",
            "Requirement already satisfied: contourpy>=1.0.1 in /usr/local/lib/python3.10/dist-packages (from matplotlib>=2.0.0->earthpy) (1.3.0)\n",
            "Requirement already satisfied: cycler>=0.10 in /usr/local/lib/python3.10/dist-packages (from matplotlib>=2.0.0->earthpy) (0.12.1)\n",
            "Requirement already satisfied: fonttools>=4.22.0 in /usr/local/lib/python3.10/dist-packages (from matplotlib>=2.0.0->earthpy) (4.54.1)\n",
            "Requirement already satisfied: kiwisolver>=1.0.1 in /usr/local/lib/python3.10/dist-packages (from matplotlib>=2.0.0->earthpy) (1.4.7)\n",
            "Requirement already satisfied: packaging>=20.0 in /usr/local/lib/python3.10/dist-packages (from matplotlib>=2.0.0->earthpy) (24.1)\n",
            "Requirement already satisfied: pillow>=6.2.0 in /usr/local/lib/python3.10/dist-packages (from matplotlib>=2.0.0->earthpy) (10.4.0)\n",
            "Requirement already satisfied: pyparsing>=2.3.1 in /usr/local/lib/python3.10/dist-packages (from matplotlib>=2.0.0->earthpy) (3.2.0)\n",
            "Requirement already satisfied: python-dateutil>=2.7 in /usr/local/lib/python3.10/dist-packages (from matplotlib>=2.0.0->earthpy) (2.8.2)\n",
            "Requirement already satisfied: pyogrio>=0.7.2 in /usr/local/lib/python3.10/dist-packages (from geopandas->earthpy) (0.10.0)\n",
            "Requirement already satisfied: pandas>=1.4.0 in /usr/local/lib/python3.10/dist-packages (from geopandas->earthpy) (2.2.2)\n",
            "Requirement already satisfied: pyproj>=3.3.0 in /usr/local/lib/python3.10/dist-packages (from geopandas->earthpy) (3.7.0)\n",
            "Requirement already satisfied: shapely>=2.0.0 in /usr/local/lib/python3.10/dist-packages (from geopandas->earthpy) (2.0.6)\n",
            "Collecting affine (from rasterio->earthpy)\n",
            "  Downloading affine-2.4.0-py3-none-any.whl.metadata (4.0 kB)\n",
            "Requirement already satisfied: attrs in /usr/local/lib/python3.10/dist-packages (from rasterio->earthpy) (24.2.0)\n",
            "Requirement already satisfied: certifi in /usr/local/lib/python3.10/dist-packages (from rasterio->earthpy) (2024.8.30)\n",
            "Requirement already satisfied: click>=4.0 in /usr/local/lib/python3.10/dist-packages (from rasterio->earthpy) (8.1.7)\n",
            "Collecting cligj>=0.5 (from rasterio->earthpy)\n",
            "  Downloading cligj-0.7.2-py3-none-any.whl.metadata (5.0 kB)\n",
            "Collecting click-plugins (from rasterio->earthpy)\n",
            "  Downloading click_plugins-1.1.1-py2.py3-none-any.whl.metadata (6.4 kB)\n",
            "Requirement already satisfied: charset-normalizer<4,>=2 in /usr/local/lib/python3.10/dist-packages (from requests->earthpy) (3.4.0)\n",
            "Requirement already satisfied: idna<4,>=2.5 in /usr/local/lib/python3.10/dist-packages (from requests->earthpy) (3.10)\n",
            "Requirement already satisfied: urllib3<3,>=1.21.1 in /usr/local/lib/python3.10/dist-packages (from requests->earthpy) (2.2.3)\n",
            "Requirement already satisfied: scipy>=1.9 in /usr/local/lib/python3.10/dist-packages (from scikit-image->earthpy) (1.13.1)\n",
            "Requirement already satisfied: networkx>=2.8 in /usr/local/lib/python3.10/dist-packages (from scikit-image->earthpy) (3.4.2)\n",
            "Requirement already satisfied: imageio>=2.33 in /usr/local/lib/python3.10/dist-packages (from scikit-image->earthpy) (2.36.0)\n",
            "Requirement already satisfied: tifffile>=2022.8.12 in /usr/local/lib/python3.10/dist-packages (from scikit-image->earthpy) (2024.9.20)\n",
            "Requirement already satisfied: lazy-loader>=0.4 in /usr/local/lib/python3.10/dist-packages (from scikit-image->earthpy) (0.4)\n",
            "Requirement already satisfied: pytz>=2020.1 in /usr/local/lib/python3.10/dist-packages (from pandas>=1.4.0->geopandas->earthpy) (2024.2)\n",
            "Requirement already satisfied: tzdata>=2022.7 in /usr/local/lib/python3.10/dist-packages (from pandas>=1.4.0->geopandas->earthpy) (2024.2)\n",
            "Requirement already satisfied: six>=1.5 in /usr/local/lib/python3.10/dist-packages (from python-dateutil>=2.7->matplotlib>=2.0.0->earthpy) (1.16.0)\n",
            "Downloading earthpy-0.9.4-py3-none-any.whl (1.4 MB)\n",
            "\u001b[2K   \u001b[90m━━━━━━━━━━━━━━━━━━━━━━━━━━━━━━━━━━━━━━━━\u001b[0m \u001b[32m1.4/1.4 MB\u001b[0m \u001b[31m15.9 MB/s\u001b[0m eta \u001b[36m0:00:00\u001b[0m\n",
            "\u001b[?25hDownloading rasterio-1.4.2-cp310-cp310-manylinux_2_17_x86_64.manylinux2014_x86_64.whl (22.2 MB)\n",
            "\u001b[2K   \u001b[90m━━━━━━━━━━━━━━━━━━━━━━━━━━━━━━━━━━━━━━━━\u001b[0m \u001b[32m22.2/22.2 MB\u001b[0m \u001b[31m53.7 MB/s\u001b[0m eta \u001b[36m0:00:00\u001b[0m\n",
            "\u001b[?25hDownloading cligj-0.7.2-py3-none-any.whl (7.1 kB)\n",
            "Downloading affine-2.4.0-py3-none-any.whl (15 kB)\n",
            "Downloading click_plugins-1.1.1-py2.py3-none-any.whl (7.5 kB)\n",
            "Installing collected packages: cligj, click-plugins, affine, rasterio, earthpy\n",
            "Successfully installed affine-2.4.0 click-plugins-1.1.1 cligj-0.7.2 earthpy-0.9.4 rasterio-1.4.2\n"
          ]
        }
      ]
    },
    {
      "cell_type": "markdown",
      "source": [
        "### Importing python librariers"
      ],
      "metadata": {
        "id": "Kp8I4Fz7aAIA"
      },
      "id": "Kp8I4Fz7aAIA"
    },
    {
      "cell_type": "code",
      "source": [
        "import pandas as pd\n",
        "import numpy as np\n",
        "import geopandas as gpd\n",
        "import matplotlib.pyplot as plt\n",
        "import seaborn as sns\n",
        "import earthpy as et\n",
        "import earthpy.spatial as es\n",
        "import earthpy.plot as ep\n",
        "import os\n",
        "import requests\n",
        "import matplotlib.pyplot as plt\n",
        "%matplotlib inline\n",
        "from PIL import Image\n",
        "from io import BytesIO\n",
        "import math\n",
        "import json\n",
        "from IPython.display import display, HTML"
      ],
      "metadata": {
        "id": "8lMBT69GZycg"
      },
      "id": "8lMBT69GZycg",
      "execution_count": 7,
      "outputs": []
    },
    {
      "cell_type": "markdown",
      "source": [
        "### Request iMapInvasives API with run in Cookie based system\n",
        "#### Website: https://www.imapinvasives.org/"
      ],
      "metadata": {
        "id": "3Nj3CUL9chIe"
      },
      "id": "3Nj3CUL9chIe"
    },
    {
      "cell_type": "code",
      "source": [
        "import requests\n",
        "\n",
        "imap_site = \"imapinvasives\"\n",
        "iMap_username = \"tmollick@esf.edu\"\n",
        "iMap_password = \"URPku@130436\"\n",
        "\n",
        "login_url = r\"https://{0}.natureserve.org/imap/j_spring_security_check\".format(imap_site)\n",
        "\n",
        "# Attempt to log in\n",
        "print(\"\\nAttempting to authenticate with: {0}\".format(login_url))\n",
        "iMapSession = requests.Session()  # This is a global variable accessed in later functions\n",
        "login_response = iMapSession.post(login_url,{'j_username':iMap_username,'j_password':iMap_password})\n",
        "login_response_message = \"\\nlogin response: {0}\".format(login_response.status_code)\n",
        "print(login_response_message)\n",
        "login_response.raise_for_status()\n",
        "\n",
        "# Attempt to access a record to check if log-in was successful\n",
        "test_aoi_url = r\"https://{0}.natureserve.org/imap/services/aoi/new\".format(imap_site)\n",
        "test_aoi_record = iMapSession.get(test_aoi_url)\n",
        "test_aoi_record_message = \"\\nTest record access response: {0}\".format(test_aoi_record.status_code)\n",
        "print(test_aoi_record_message)\n",
        "\n",
        "if test_aoi_record.status_code == 403:\n",
        "    print(\"\\nResponse Code 403 is most likely the result of an incorrectly entered iMap username or password.  It may also be caused by logging in as a user with insufficient permissions.\")\n",
        "\n",
        "test_aoi_record.raise_for_status()"
      ],
      "metadata": {
        "id": "xtB5z0EMcrHM",
        "outputId": "1debce6b-f73c-4629-bfb3-764aebd216ac",
        "colab": {
          "base_uri": "https://localhost:8080/"
        }
      },
      "id": "xtB5z0EMcrHM",
      "execution_count": 5,
      "outputs": [
        {
          "output_type": "stream",
          "name": "stdout",
          "text": [
            "\n",
            "Attempting to authenticate with: https://imapinvasives.natureserve.org/imap/j_spring_security_check\n",
            "\n",
            "login response: 200\n",
            "\n",
            "Test record access response: 200\n"
          ]
        }
      ]
    },
    {
      "cell_type": "code",
      "source": [],
      "metadata": {
        "id": "_WK0f8uLc9nE"
      },
      "id": "_WK0f8uLc9nE",
      "execution_count": null,
      "outputs": []
    },
    {
      "cell_type": "markdown",
      "source": [
        "### Fliter 500 Spotted Lanternfly Records"
      ],
      "metadata": {
        "id": "RhbMqaUTedEX"
      },
      "id": "RhbMqaUTedEX"
    },
    {
      "cell_type": "code",
      "source": [
        "import pandas as pd\n",
        "\n",
        "# Load the CSV file\n",
        "ny = pd.read_csv(\"New_York_iMap_records_from_year_2000.csv\", encoding=\"ISO-8859-1\")\n",
        "\n",
        "# Filter records where jurisdicti is \"New York\"\n",
        "ny_records = ny[ny['jurisdicti'] == 'New York']\n",
        "\n",
        "# Further filter the records for \"Alliaria petiolata\"\n",
        "alliaria_records = ny_records[ny_records['scientific'] == 'Lycorma delicatula']\n",
        "\n",
        "# Check the available counties for this species in New York\n",
        "available_counties = alliaria_records['county'].unique()\n",
        "print(f\"Available counties for Lycorma delicatula in New York: {available_counties}\")\n",
        "\n",
        "# Evenly distribute 500 records across all counties\n",
        "num_counties = len(available_counties)\n",
        "records_per_county = 500 // num_counties\n",
        "\n",
        "# Sample records evenly across counties\n",
        "sampled_records = alliaria_records.groupby('county').apply(lambda x: x.sample(n=min(len(x), records_per_county), replace=False))\n",
        "\n",
        "# If we still need more records, sample remaining from counties that have more data\n",
        "remaining_records_needed = 500 - len(sampled_records)\n",
        "\n",
        "if remaining_records_needed > 0:\n",
        "    extra_records = alliaria_records[~alliaria_records.index.isin(sampled_records.index)].sample(n=remaining_records_needed, replace=False)\n",
        "    sampled_records = pd.concat([sampled_records, extra_records])\n",
        "\n",
        "# Remove multi-index caused by groupby\n",
        "sampled_records = sampled_records.reset_index(drop=True)\n",
        "\n",
        "# Save the output to CSV\n",
        "output_file = \"Lycorma delicatula_500_records_New_York.csv\"\n",
        "sampled_records.to_csv(output_file, index=False)\n",
        "\n",
        "print(f\"500 records of 'Lycorma delicatula' from New York saved to {output_file}\")\n"
      ],
      "metadata": {
        "id": "lGGEf58ceedv"
      },
      "id": "lGGEf58ceedv",
      "execution_count": null,
      "outputs": []
    },
    {
      "cell_type": "markdown",
      "source": [
        "### Filter iMap records which have photos uploaded by users"
      ],
      "metadata": {
        "id": "6Jc4qnvxfFvw"
      },
      "id": "6Jc4qnvxfFvw"
    },
    {
      "cell_type": "code",
      "source": [
        "# Read the presence IDs from the CSV file\n",
        "record_ids = pd.read_csv(\"Lycorma delicatula_500_records_New_York.csv\")\n",
        "pre_ID = record_ids[\"presence_i\"].tolist()  # Convert Series to list"
      ],
      "metadata": {
        "id": "fAj60p_gfHS2"
      },
      "id": "fAj60p_gfHS2",
      "execution_count": null,
      "outputs": []
    },
    {
      "cell_type": "code",
      "source": [
        "record_ids.head()"
      ],
      "metadata": {
        "id": "GPJqL8jyfSNo"
      },
      "id": "GPJqL8jyfSNo",
      "execution_count": 6,
      "outputs": []
    },
    {
      "cell_type": "code",
      "source": [
        "base_url = f\"https://{imap_site}.natureserve.org/imap/services/presence/\"\n",
        "\n",
        "# List to store presence IDs with at least one species having a photo\n",
        "presence_ids_with_photos = []\n",
        "\n",
        "# Iterate over each presence ID\n",
        "for presence_id in pre_ID:\n",
        "    # Construct the full URL for each presence ID\n",
        "    full_url = f\"{base_url}{presence_id}\"\n",
        "\n",
        "    # Get the iMap record for this presence ID\n",
        "    try:\n",
        "        imap_record = iMapSession.get(full_url)  # Use the session to maintain authentication\n",
        "\n",
        "        # Check if the request was successful\n",
        "        if imap_record.status_code == 200:\n",
        "            # Convert the response to a dictionary\n",
        "            imap_dictionary = imap_record.json()\n",
        "\n",
        "            # Extract all presentSpeciesId values from the speciesList\n",
        "            present_species_ids = [species.get(\"presentSpeciesId\") for species in imap_dictionary.get(\"speciesList\", [])]\n",
        "\n",
        "            # Filter out any None values just in case\n",
        "            present_species_ids = [id for id in present_species_ids if id is not None]\n",
        "\n",
        "            # Check if any presentSpeciesId has hasPhotoInd == True\n",
        "            has_photo = any(species.get(\"hasPhotoInd\") == True for species in imap_dictionary.get(\"speciesList\", []))\n",
        "\n",
        "            # If at least one presentSpeciesId has a photo, add the presence ID to the list\n",
        "            if has_photo:\n",
        "                presence_ids_with_photos.append(presence_id)\n",
        "\n",
        "    except requests.exceptions.RequestException as e:\n",
        "        print(f\"An error occurred while processing presence ID {presence_id}: {e}\")"
      ],
      "metadata": {
        "id": "ZeQGLbmRfX3q"
      },
      "id": "ZeQGLbmRfX3q",
      "execution_count": null,
      "outputs": []
    },
    {
      "cell_type": "code",
      "source": [
        "print(presence_ids_with_photos)"
      ],
      "metadata": {
        "id": "_H6Vltz9fgNl"
      },
      "id": "_H6Vltz9fgNl",
      "execution_count": null,
      "outputs": []
    },
    {
      "cell_type": "code",
      "source": [
        "presence_ids = presence_ids_with_photos"
      ],
      "metadata": {
        "id": "vWNxnJJVfnUA"
      },
      "id": "vWNxnJJVfnUA",
      "execution_count": null,
      "outputs": []
    },
    {
      "cell_type": "code",
      "source": [],
      "metadata": {
        "id": "NizQJ7gwfoSi"
      },
      "id": "NizQJ7gwfoSi",
      "execution_count": null,
      "outputs": []
    },
    {
      "cell_type": "markdown",
      "source": [
        "### Plot iMap record photos"
      ],
      "metadata": {
        "id": "-dzxHfoVfuD4"
      },
      "id": "-dzxHfoVfuD4"
    },
    {
      "cell_type": "code",
      "source": [
        "import requests\n",
        "from PIL import Image\n",
        "from io import BytesIO\n",
        "import matplotlib.pyplot as plt\n",
        "import math\n",
        "\n",
        "# Function to get the image from a URL, handling redirects and setting headers\n",
        "def get_image_from_url(url):\n",
        "    headers = {\n",
        "        'User-Agent': 'Mozilla/5.0 (Windows NT 10.0; Win64; x64) AppleWebKit/537.36 (KHTML, like Gecko) Chrome/58.0.3029.110 Safari/537.3'\n",
        "    }\n",
        "\n",
        "    # Perform the GET request with headers and follow redirects\n",
        "    response = iMapSession.get(url, headers=headers, allow_redirects=True)\n",
        "\n",
        "    if response.status_code == 200:\n",
        "        try:\n",
        "            return Image.open(BytesIO(response.content))\n",
        "        except Exception as e:\n",
        "            print(f\"Failed to open image. Error: {e}\")\n",
        "            return None\n",
        "    else:\n",
        "        print(f\"Failed to retrieve image. Status code: {response.status_code}\")\n",
        "        return None\n",
        "\n",
        "# Function to plot images for each presentSpeciesId in a grid with 3 columns\n",
        "def plot_images_for_species(imap_dictionary, presence_id):\n",
        "    species_list = imap_dictionary.get(\"speciesList\", [])\n",
        "    num_species = len(species_list)\n",
        "    num_columns = 3\n",
        "    num_rows = math.ceil(num_species / num_columns)\n",
        "\n",
        "    fig, axs = plt.subplots(num_rows, num_columns, figsize=(15, 5 * num_rows))\n",
        "    axs = axs.flatten()  # Flatten the 2D array of axes to 1D for easy iteration\n",
        "\n",
        "    for i, species in enumerate(species_list):\n",
        "        img = None\n",
        "\n",
        "        # Check if the 'photos' list exists and has at least one item\n",
        "        if \"photos\" in species and species[\"photos\"]:\n",
        "            photo_url = species[\"photos\"][0].get(\"photoUrl\", \"\")\n",
        "\n",
        "            if photo_url and (photo_url.lower().endswith('.jpg') or photo_url.lower().endswith('.jpeg')):  # Ensure the URL is a valid .jpg or .jpeg\n",
        "                img = get_image_from_url(photo_url)\n",
        "\n",
        "        # Display the image if it was successfully retrieved\n",
        "        if img:\n",
        "            axs[i].imshow(img)\n",
        "            axs[i].axis('off')  # Turn off the axis\n",
        "            axs[i].set_title(f\"ID: {presence_id}\\nSpecies ID: {species.get('presentSpeciesId')}\")\n",
        "        else:\n",
        "            axs[i].text(0.5, 0.5, f'ID: {presence_id}\\nImage Not Available', horizontalalignment='center', verticalalignment='center')\n",
        "            axs[i].axis('off')\n",
        "\n",
        "    # Turn off remaining empty subplots\n",
        "    for j in range(i + 1, num_rows * num_columns):\n",
        "        axs[j].axis('off')\n",
        "\n",
        "    plt.tight_layout()\n",
        "    plt.show()\n",
        "\n",
        "# Function to process multiple presence IDs and plot images\n",
        "def plot_images_for_multiple_species_ids(presence_ids):\n",
        "    base_url = \"https://imapinvasives.natureserve.org/imap/services/presence/\"\n",
        "\n",
        "    for presence_id in presence_ids:\n",
        "        print(f\"\\nProcessing presence ID: {presence_id}\")\n",
        "        # Construct the full URL for each presence ID\n",
        "        full_url = f\"{base_url}{presence_id}\"\n",
        "\n",
        "        # Get the iMap record for this presence ID\n",
        "        imap_record = iMapSession.get(full_url)\n",
        "\n",
        "        if imap_record.status_code == 200:\n",
        "            # Convert the response to a dictionary\n",
        "            imap_dictionary = imap_record.json()\n",
        "\n",
        "            # Plot images for this presence ID\n",
        "            plot_images_for_species(imap_dictionary, presence_id)\n",
        "        else:\n",
        "            print(f\"Failed to retrieve data for presence ID {presence_id}. Status code: {imap_record.status_code}\")\n",
        "\n",
        "# Process all the presence IDs and plot images\n",
        "plot_images_for_multiple_species_ids(presence_ids)\n"
      ],
      "metadata": {
        "id": "oQ3efD_AfvcV"
      },
      "id": "oQ3efD_AfvcV",
      "execution_count": null,
      "outputs": []
    }
  ],
  "metadata": {
    "kernelspec": {
      "display_name": "Python 3 (ipykernel)",
      "language": "python",
      "name": "python3"
    },
    "language_info": {
      "codemirror_mode": {
        "name": "ipython",
        "version": 3
      },
      "file_extension": ".py",
      "mimetype": "text/x-python",
      "name": "python",
      "nbconvert_exporter": "python",
      "pygments_lexer": "ipython3",
      "version": "3.9.18"
    },
    "colab": {
      "provenance": []
    }
  },
  "nbformat": 4,
  "nbformat_minor": 5
}