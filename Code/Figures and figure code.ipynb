{
 "cells": [
  {
   "cell_type": "markdown",
   "id": "68212e55",
   "metadata": {},
   "source": [
    "[![Open In Colab](https://colab.research.google.com/assets/colab-badge.svg)](https://colab.research.google.com/github/tmollick95/iMapInvasives/blob/master/Code/Figures%20and%20figure%20code.ipynb)"
   ]
  },
  {
   "cell_type": "markdown",
   "id": "2fd2e09c",
   "metadata": {},
   "source": [
    "### Figures and figure code"
   ]
  },
  {
   "cell_type": "code",
   "execution_count": 2,
   "id": "24207b6b",
   "metadata": {},
   "outputs": [],
   "source": [
    "## All the figures"
   ]
  },
  {
   "cell_type": "code",
   "execution_count": null,
   "id": "44490a0f",
   "metadata": {},
   "outputs": [],
   "source": []
  }
 ],
 "metadata": {
  "kernelspec": {
   "display_name": "Python 3 (ipykernel)",
   "language": "python",
   "name": "python3"
  },
  "language_info": {
   "codemirror_mode": {
    "name": "ipython",
    "version": 3
   },
   "file_extension": ".py",
   "mimetype": "text/x-python",
   "name": "python",
   "nbconvert_exporter": "python",
   "pygments_lexer": "ipython3",
   "version": "3.9.18"
  }
 },
 "nbformat": 4,
 "nbformat_minor": 5
}
